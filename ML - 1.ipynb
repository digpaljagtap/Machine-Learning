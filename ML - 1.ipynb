{
 "cells": [
  {
   "cell_type": "markdown",
   "id": "ea85385c-ac54-4f78-8c5f-05ebb1584052",
   "metadata": {},
   "source": [
    "## Mean"
   ]
  },
  {
   "cell_type": "code",
   "execution_count": 2,
   "id": "9cee03ca-87a6-4266-9b02-6300bcb9977a",
   "metadata": {},
   "outputs": [],
   "source": [
    "import numpy"
   ]
  },
  {
   "cell_type": "code",
   "execution_count": 3,
   "id": "478b3b73-0ded-4ab4-84ec-9d16e48ce354",
   "metadata": {},
   "outputs": [
    {
     "name": "stdout",
     "output_type": "stream",
     "text": [
      "4.777777777777778\n"
     ]
    }
   ],
   "source": [
    "a = (1,6,4,7,4,2,6,9,4) # it is anything like list, touple, string etc\n",
    "\n",
    "b = numpy.mean(a)  # it will calculate average of all numbers\n",
    "\n",
    "print(b)"
   ]
  },
  {
   "cell_type": "code",
   "execution_count": 4,
   "id": "7d9950bf-7c8f-4913-a623-87ab68599d03",
   "metadata": {},
   "outputs": [
    {
     "name": "stdout",
     "output_type": "stream",
     "text": [
      "86.42857142857143\n"
     ]
    }
   ],
   "source": [
    "a = [86,87,88,86,87,85,86]\n",
    "print(numpy.mean(a))"
   ]
  },
  {
   "cell_type": "code",
   "execution_count": 5,
   "id": "509b54a0-8025-4ad3-98e4-0151523aea83",
   "metadata": {},
   "outputs": [
    {
     "name": "stdout",
     "output_type": "stream",
     "text": [
      "77.42857142857143\n"
     ]
    }
   ],
   "source": [
    "a = [32,111,138,28,59,77,97]\n",
    "print(numpy.mean(a))"
   ]
  },
  {
   "cell_type": "markdown",
   "id": "27e6b2da-314f-4f9b-be21-454a0b0da81e",
   "metadata": {},
   "source": [
    "## Median"
   ]
  },
  {
   "cell_type": "code",
   "execution_count": 7,
   "id": "4d1470d1-f02d-43e0-b761-59723fdbfc6f",
   "metadata": {},
   "outputs": [
    {
     "name": "stdout",
     "output_type": "stream",
     "text": [
      "4.0\n"
     ]
    }
   ],
   "source": [
    "a = (1,6,4,7,4,2,6,9,4) # it is anything like list, touple, string etc \n",
    "\n",
    "b = numpy.median(a)  # it will find middle value if there is 2 numbers then it will sum of those numbers by 2 \n",
    "\n",
    "print(b)"
   ]
  },
  {
   "cell_type": "markdown",
   "id": "9bfa6c1e-230b-4412-a88d-174f3820b5b8",
   "metadata": {},
   "source": [
    "## Mode"
   ]
  },
  {
   "cell_type": "code",
   "execution_count": 9,
   "id": "8a7a57b8-4fea-462a-8801-608bc32af3b2",
   "metadata": {},
   "outputs": [],
   "source": [
    "from scipy import stats"
   ]
  },
  {
   "cell_type": "code",
   "execution_count": 10,
   "id": "02a1949f-0721-4b02-afda-f9aa0ee4280f",
   "metadata": {},
   "outputs": [
    {
     "name": "stdout",
     "output_type": "stream",
     "text": [
      "ModeResult(mode=4, count=3)\n"
     ]
    }
   ],
   "source": [
    "a = (1,6,4,7,4,2,6,9,4) # it is anything like list, touple, string etc\n",
    "\n",
    "b = stats.mode(a)  # it will calculate value that appears the most number of times\n",
    "\n",
    "print(b)"
   ]
  },
  {
   "cell_type": "markdown",
   "id": "54b60c01-af36-4be2-8116-390c471536c8",
   "metadata": {},
   "source": [
    "## Standard Deviation"
   ]
  },
  {
   "cell_type": "markdown",
   "id": "8b499517-fd7c-4341-9999-b752f51ccbf2",
   "metadata": {},
   "source": [
    "''' \n",
    "Standard deviation is a number that describes how spread out the values \n",
    "are.\n",
    "\n",
    "A low standard deviation means that most of the numbers are close to the mean\n",
    "(average) value.\n",
    "\n",
    "A high standard deviation means that the values are spread out over a wider\n",
    "range.\n",
    "\n",
    "'''"
   ]
  },
  {
   "cell_type": "code",
   "execution_count": 13,
   "id": "0575c0ca-6162-4a09-aa90-77ed5bba51b9",
   "metadata": {},
   "outputs": [
    {
     "name": "stdout",
     "output_type": "stream",
     "text": [
      "1.8360538526960477\n"
     ]
    }
   ],
   "source": [
    "a = (4,6,4,6,8,7,5,4,2,4,6,8,8,7,3,7)\n",
    "\n",
    "b = numpy.std(a)\n",
    "\n",
    "print(b)"
   ]
  },
  {
   "cell_type": "markdown",
   "id": "d9b22898-6b71-45ff-9fa9-6f4dbc99c632",
   "metadata": {},
   "source": [
    "## Variance"
   ]
  },
  {
   "cell_type": "markdown",
   "id": "dcefbd83-81ed-4c92-9894-5f09f1a30234",
   "metadata": {},
   "source": [
    "Variance is another number that indicates how spread out the values are.\n",
    "\n",
    "** multiply the standard deviation by itself, you get the variance\n",
    "\n"
   ]
  },
  {
   "cell_type": "code",
   "execution_count": 17,
   "id": "a7ab2092-7888-4bd6-9120-5e8caa6438fe",
   "metadata": {},
   "outputs": [
    {
     "name": "stdout",
     "output_type": "stream",
     "text": [
      "4.551020408163265\n"
     ]
    }
   ],
   "source": [
    "a = (8,4,6,8,8,6,4,3,2,4,5,7,8,9)\n",
    "\n",
    "b = numpy.var(a)\n",
    "\n",
    "print(b)"
   ]
  },
  {
   "cell_type": "code",
   "execution_count": 21,
   "id": "852b9381-2752-4a20-b8f8-4bc82b5b23cf",
   "metadata": {},
   "outputs": [
    {
     "name": "stdout",
     "output_type": "stream",
     "text": [
      "2.133312074724011\n",
      "4.551020408163264\n"
     ]
    }
   ],
   "source": [
    "a = (8,4,6,8,8,6,4,3,2,4,5,7,8,9)\n",
    "\n",
    "b = numpy.std(a)\n",
    "\n",
    "print(b)\n",
    "\n",
    "print(b**2) # sq. of standard deviation is veriance"
   ]
  },
  {
   "cell_type": "markdown",
   "id": "a81e9742-943a-40ca-b8d7-9defec0bd273",
   "metadata": {},
   "source": [
    "Standard Deviation is often represented by the symbol Sigma: σ\r\n",
    "\r\n",
    "Variance is often represented by the symbol Sigma Squared: σ2"
   ]
  },
  {
   "cell_type": "code",
   "execution_count": null,
   "id": "81fc07db-a989-4e8a-979c-ff83eb1f3e23",
   "metadata": {},
   "outputs": [],
   "source": []
  }
 ],
 "metadata": {
  "kernelspec": {
   "display_name": "Python 3 (ipykernel)",
   "language": "python",
   "name": "python3"
  },
  "language_info": {
   "codemirror_mode": {
    "name": "ipython",
    "version": 3
   },
   "file_extension": ".py",
   "mimetype": "text/x-python",
   "name": "python",
   "nbconvert_exporter": "python",
   "pygments_lexer": "ipython3",
   "version": "3.12.4"
  }
 },
 "nbformat": 4,
 "nbformat_minor": 5
}
